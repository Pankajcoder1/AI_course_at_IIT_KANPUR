{
  "nbformat": 4,
  "nbformat_minor": 0,
  "metadata": {
    "colab": {
      "name": "Basic Shapes",
      "provenance": [],
      "collapsed_sections": []
    },
    "kernelspec": {
      "name": "python3",
      "display_name": "Python 3"
    },
    "accelerator": "GPU"
  },
  "cells": [
    {
      "cell_type": "code",
      "metadata": {
        "id": "_KQnY0loGZMo",
        "colab_type": "code",
        "colab": {
          "base_uri": "https://localhost:8080/",
          "height": 1000
        },
        "outputId": "8b77150d-9c0b-4761-d6be-8af76008808d"
      },
      "source": [
        "!unzip basicshapes.zip"
      ],
      "execution_count": null,
      "outputs": [
        {
          "output_type": "stream",
          "text": [
            "Archive:  basicshapes.zip\n",
            "   creating: shapes/circles/\n",
            " extracting: shapes/circles/drawing(1).png  \n",
            " extracting: shapes/circles/drawing(10).png  \n",
            " extracting: shapes/circles/drawing(100).png  \n",
            " extracting: shapes/circles/drawing(11).png  \n",
            " extracting: shapes/circles/drawing(12).png  \n",
            " extracting: shapes/circles/drawing(13).png  \n",
            " extracting: shapes/circles/drawing(14).png  \n",
            " extracting: shapes/circles/drawing(15).png  \n",
            " extracting: shapes/circles/drawing(16).png  \n",
            " extracting: shapes/circles/drawing(17).png  \n",
            " extracting: shapes/circles/drawing(18).png  \n",
            " extracting: shapes/circles/drawing(19).png  \n",
            " extracting: shapes/circles/drawing(2).png  \n",
            " extracting: shapes/circles/drawing(20).png  \n",
            " extracting: shapes/circles/drawing(21).png  \n",
            " extracting: shapes/circles/drawing(22).png  \n",
            " extracting: shapes/circles/drawing(23).png  \n",
            " extracting: shapes/circles/drawing(24).png  \n",
            " extracting: shapes/circles/drawing(25).png  \n",
            " extracting: shapes/circles/drawing(26).png  \n",
            " extracting: shapes/circles/drawing(27).png  \n",
            " extracting: shapes/circles/drawing(28).png  \n",
            " extracting: shapes/circles/drawing(29).png  \n",
            " extracting: shapes/circles/drawing(3).png  \n",
            " extracting: shapes/circles/drawing(30).png  \n",
            " extracting: shapes/circles/drawing(31).png  \n",
            " extracting: shapes/circles/drawing(32).png  \n",
            " extracting: shapes/circles/drawing(33).png  \n",
            " extracting: shapes/circles/drawing(34).png  \n",
            " extracting: shapes/circles/drawing(35).png  \n",
            " extracting: shapes/circles/drawing(36).png  \n",
            " extracting: shapes/circles/drawing(37).png  \n",
            " extracting: shapes/circles/drawing(38).png  \n",
            " extracting: shapes/circles/drawing(39).png  \n",
            " extracting: shapes/circles/drawing(4).png  \n",
            " extracting: shapes/circles/drawing(40).png  \n",
            " extracting: shapes/circles/drawing(41).png  \n",
            " extracting: shapes/circles/drawing(42).png  \n",
            " extracting: shapes/circles/drawing(43).png  \n",
            " extracting: shapes/circles/drawing(44).png  \n",
            " extracting: shapes/circles/drawing(45).png  \n",
            " extracting: shapes/circles/drawing(46).png  \n",
            " extracting: shapes/circles/drawing(47).png  \n",
            " extracting: shapes/circles/drawing(48).png  \n",
            " extracting: shapes/circles/drawing(49).png  \n",
            " extracting: shapes/circles/drawing(5).png  \n",
            " extracting: shapes/circles/drawing(50).png  \n",
            " extracting: shapes/circles/drawing(51).png  \n",
            " extracting: shapes/circles/drawing(52).png  \n",
            " extracting: shapes/circles/drawing(53).png  \n",
            " extracting: shapes/circles/drawing(54).png  \n",
            " extracting: shapes/circles/drawing(55).png  \n",
            " extracting: shapes/circles/drawing(56).png  \n",
            " extracting: shapes/circles/drawing(57).png  \n",
            " extracting: shapes/circles/drawing(58).png  \n",
            " extracting: shapes/circles/drawing(59).png  \n",
            " extracting: shapes/circles/drawing(6).png  \n",
            " extracting: shapes/circles/drawing(60).png  \n",
            " extracting: shapes/circles/drawing(61).png  \n",
            " extracting: shapes/circles/drawing(62).png  \n",
            " extracting: shapes/circles/drawing(63).png  \n",
            " extracting: shapes/circles/drawing(64).png  \n",
            " extracting: shapes/circles/drawing(65).png  \n",
            " extracting: shapes/circles/drawing(66).png  \n",
            " extracting: shapes/circles/drawing(67).png  \n",
            " extracting: shapes/circles/drawing(68).png  \n",
            " extracting: shapes/circles/drawing(69).png  \n",
            " extracting: shapes/circles/drawing(7).png  \n",
            " extracting: shapes/circles/drawing(70).png  \n",
            " extracting: shapes/circles/drawing(71).png  \n",
            " extracting: shapes/circles/drawing(72).png  \n",
            " extracting: shapes/circles/drawing(73).png  \n",
            " extracting: shapes/circles/drawing(74).png  \n",
            " extracting: shapes/circles/drawing(75).png  \n",
            " extracting: shapes/circles/drawing(76).png  \n",
            " extracting: shapes/circles/drawing(77).png  \n",
            " extracting: shapes/circles/drawing(78).png  \n",
            " extracting: shapes/circles/drawing(79).png  \n",
            " extracting: shapes/circles/drawing(8).png  \n",
            " extracting: shapes/circles/drawing(80).png  \n",
            " extracting: shapes/circles/drawing(81).png  \n",
            " extracting: shapes/circles/drawing(82).png  \n",
            " extracting: shapes/circles/drawing(83).png  \n",
            " extracting: shapes/circles/drawing(84).png  \n",
            " extracting: shapes/circles/drawing(85).png  \n",
            " extracting: shapes/circles/drawing(86).png  \n",
            " extracting: shapes/circles/drawing(87).png  \n",
            " extracting: shapes/circles/drawing(88).png  \n",
            " extracting: shapes/circles/drawing(89).png  \n",
            " extracting: shapes/circles/drawing(9).png  \n",
            " extracting: shapes/circles/drawing(90).png  \n",
            " extracting: shapes/circles/drawing(91).png  \n",
            " extracting: shapes/circles/drawing(92).png  \n",
            " extracting: shapes/circles/drawing(93).png  \n",
            " extracting: shapes/circles/drawing(94).png  \n",
            " extracting: shapes/circles/drawing(95).png  \n",
            " extracting: shapes/circles/drawing(96).png  \n",
            " extracting: shapes/circles/drawing(97).png  \n",
            " extracting: shapes/circles/drawing(98).png  \n",
            " extracting: shapes/circles/drawing(99).png  \n",
            "   creating: shapes/squares/\n",
            " extracting: shapes/squares/drawing(1).png  \n",
            " extracting: shapes/squares/drawing(10).png  \n",
            " extracting: shapes/squares/drawing(100).png  \n",
            " extracting: shapes/squares/drawing(11).png  \n",
            " extracting: shapes/squares/drawing(12).png  \n",
            " extracting: shapes/squares/drawing(13).png  \n",
            " extracting: shapes/squares/drawing(14).png  \n",
            " extracting: shapes/squares/drawing(15).png  \n",
            " extracting: shapes/squares/drawing(16).png  \n",
            " extracting: shapes/squares/drawing(17).png  \n",
            " extracting: shapes/squares/drawing(18).png  \n",
            " extracting: shapes/squares/drawing(19).png  \n",
            " extracting: shapes/squares/drawing(2).png  \n",
            " extracting: shapes/squares/drawing(20).png  \n",
            " extracting: shapes/squares/drawing(21).png  \n",
            " extracting: shapes/squares/drawing(22).png  \n",
            " extracting: shapes/squares/drawing(23).png  \n",
            " extracting: shapes/squares/drawing(24).png  \n",
            " extracting: shapes/squares/drawing(25).png  \n",
            " extracting: shapes/squares/drawing(26).png  \n",
            " extracting: shapes/squares/drawing(27).png  \n",
            " extracting: shapes/squares/drawing(28).png  \n",
            " extracting: shapes/squares/drawing(29).png  \n",
            " extracting: shapes/squares/drawing(3).png  \n",
            " extracting: shapes/squares/drawing(30).png  \n",
            " extracting: shapes/squares/drawing(31).png  \n",
            " extracting: shapes/squares/drawing(32).png  \n",
            " extracting: shapes/squares/drawing(33).png  \n",
            " extracting: shapes/squares/drawing(34).png  \n",
            " extracting: shapes/squares/drawing(35).png  \n",
            " extracting: shapes/squares/drawing(36).png  \n",
            " extracting: shapes/squares/drawing(37).png  \n",
            " extracting: shapes/squares/drawing(38).png  \n",
            " extracting: shapes/squares/drawing(39).png  \n",
            " extracting: shapes/squares/drawing(4).png  \n",
            " extracting: shapes/squares/drawing(40).png  \n",
            " extracting: shapes/squares/drawing(41).png  \n",
            " extracting: shapes/squares/drawing(42).png  \n",
            " extracting: shapes/squares/drawing(43).png  \n",
            " extracting: shapes/squares/drawing(44).png  \n",
            " extracting: shapes/squares/drawing(45).png  \n",
            " extracting: shapes/squares/drawing(46).png  \n",
            " extracting: shapes/squares/drawing(47).png  \n",
            " extracting: shapes/squares/drawing(48).png  \n",
            " extracting: shapes/squares/drawing(49).png  \n",
            " extracting: shapes/squares/drawing(5).png  \n",
            " extracting: shapes/squares/drawing(50).png  \n",
            " extracting: shapes/squares/drawing(51).png  \n",
            " extracting: shapes/squares/drawing(52).png  \n",
            " extracting: shapes/squares/drawing(53).png  \n",
            " extracting: shapes/squares/drawing(54).png  \n",
            " extracting: shapes/squares/drawing(55).png  \n",
            " extracting: shapes/squares/drawing(56).png  \n",
            " extracting: shapes/squares/drawing(57).png  \n",
            " extracting: shapes/squares/drawing(58).png  \n",
            " extracting: shapes/squares/drawing(59).png  \n",
            " extracting: shapes/squares/drawing(6).png  \n",
            " extracting: shapes/squares/drawing(60).png  \n",
            " extracting: shapes/squares/drawing(61).png  \n",
            " extracting: shapes/squares/drawing(62).png  \n",
            " extracting: shapes/squares/drawing(63).png  \n",
            " extracting: shapes/squares/drawing(64).png  \n",
            " extracting: shapes/squares/drawing(65).png  \n",
            " extracting: shapes/squares/drawing(66).png  \n",
            " extracting: shapes/squares/drawing(67).png  \n",
            " extracting: shapes/squares/drawing(68).png  \n",
            " extracting: shapes/squares/drawing(69).png  \n",
            " extracting: shapes/squares/drawing(7).png  \n",
            " extracting: shapes/squares/drawing(70).png  \n",
            " extracting: shapes/squares/drawing(71).png  \n",
            " extracting: shapes/squares/drawing(72).png  \n",
            " extracting: shapes/squares/drawing(73).png  \n",
            " extracting: shapes/squares/drawing(74).png  \n",
            " extracting: shapes/squares/drawing(75).png  \n",
            " extracting: shapes/squares/drawing(76).png  \n",
            " extracting: shapes/squares/drawing(77).png  \n",
            " extracting: shapes/squares/drawing(78).png  \n",
            " extracting: shapes/squares/drawing(79).png  \n",
            " extracting: shapes/squares/drawing(8).png  \n",
            " extracting: shapes/squares/drawing(80).png  \n",
            " extracting: shapes/squares/drawing(81).png  \n",
            " extracting: shapes/squares/drawing(82).png  \n",
            " extracting: shapes/squares/drawing(83).png  \n",
            " extracting: shapes/squares/drawing(84).png  \n",
            " extracting: shapes/squares/drawing(85).png  \n",
            " extracting: shapes/squares/drawing(86).png  \n",
            " extracting: shapes/squares/drawing(87).png  \n",
            " extracting: shapes/squares/drawing(88).png  \n",
            " extracting: shapes/squares/drawing(89).png  \n",
            " extracting: shapes/squares/drawing(9).png  \n",
            " extracting: shapes/squares/drawing(90).png  \n",
            " extracting: shapes/squares/drawing(91).png  \n",
            " extracting: shapes/squares/drawing(92).png  \n",
            " extracting: shapes/squares/drawing(93).png  \n",
            " extracting: shapes/squares/drawing(94).png  \n",
            " extracting: shapes/squares/drawing(95).png  \n",
            " extracting: shapes/squares/drawing(96).png  \n",
            " extracting: shapes/squares/drawing(97).png  \n",
            " extracting: shapes/squares/drawing(98).png  \n",
            " extracting: shapes/squares/drawing(99).png  \n",
            "   creating: shapes/triangles/\n",
            " extracting: shapes/triangles/drawing(1).png  \n",
            " extracting: shapes/triangles/drawing(10).png  \n",
            " extracting: shapes/triangles/drawing(100).png  \n",
            " extracting: shapes/triangles/drawing(11).png  \n",
            " extracting: shapes/triangles/drawing(12).png  \n",
            " extracting: shapes/triangles/drawing(13).png  \n",
            " extracting: shapes/triangles/drawing(14).png  \n",
            " extracting: shapes/triangles/drawing(15).png  \n",
            " extracting: shapes/triangles/drawing(16).png  \n",
            " extracting: shapes/triangles/drawing(17).png  \n",
            " extracting: shapes/triangles/drawing(18).png  \n",
            " extracting: shapes/triangles/drawing(19).png  \n",
            " extracting: shapes/triangles/drawing(2).png  \n",
            " extracting: shapes/triangles/drawing(20).png  \n",
            " extracting: shapes/triangles/drawing(21).png  \n",
            " extracting: shapes/triangles/drawing(22).png  \n",
            " extracting: shapes/triangles/drawing(23).png  \n",
            " extracting: shapes/triangles/drawing(24).png  \n",
            " extracting: shapes/triangles/drawing(25).png  \n",
            " extracting: shapes/triangles/drawing(26).png  \n",
            " extracting: shapes/triangles/drawing(27).png  \n",
            " extracting: shapes/triangles/drawing(28).png  \n",
            " extracting: shapes/triangles/drawing(29).png  \n",
            " extracting: shapes/triangles/drawing(3).png  \n",
            " extracting: shapes/triangles/drawing(30).png  \n",
            " extracting: shapes/triangles/drawing(31).png  \n",
            " extracting: shapes/triangles/drawing(32).png  \n",
            " extracting: shapes/triangles/drawing(33).png  \n",
            " extracting: shapes/triangles/drawing(34).png  \n",
            " extracting: shapes/triangles/drawing(35).png  \n",
            " extracting: shapes/triangles/drawing(36).png  \n",
            " extracting: shapes/triangles/drawing(37).png  \n",
            " extracting: shapes/triangles/drawing(38).png  \n",
            " extracting: shapes/triangles/drawing(39).png  \n",
            " extracting: shapes/triangles/drawing(4).png  \n",
            " extracting: shapes/triangles/drawing(40).png  \n",
            " extracting: shapes/triangles/drawing(41).png  \n",
            " extracting: shapes/triangles/drawing(42).png  \n",
            " extracting: shapes/triangles/drawing(43).png  \n",
            " extracting: shapes/triangles/drawing(44).png  \n",
            " extracting: shapes/triangles/drawing(45).png  \n",
            " extracting: shapes/triangles/drawing(46).png  \n",
            " extracting: shapes/triangles/drawing(47).png  \n",
            " extracting: shapes/triangles/drawing(48).png  \n",
            " extracting: shapes/triangles/drawing(49).png  \n",
            " extracting: shapes/triangles/drawing(5).png  \n",
            " extracting: shapes/triangles/drawing(50).png  \n",
            " extracting: shapes/triangles/drawing(51).png  \n",
            " extracting: shapes/triangles/drawing(52).png  \n",
            " extracting: shapes/triangles/drawing(53).png  \n",
            " extracting: shapes/triangles/drawing(54).png  \n",
            " extracting: shapes/triangles/drawing(55).png  \n",
            " extracting: shapes/triangles/drawing(56).png  \n",
            " extracting: shapes/triangles/drawing(57).png  \n",
            " extracting: shapes/triangles/drawing(58).png  \n",
            " extracting: shapes/triangles/drawing(59).png  \n",
            " extracting: shapes/triangles/drawing(6).png  \n",
            " extracting: shapes/triangles/drawing(60).png  \n",
            " extracting: shapes/triangles/drawing(61).png  \n",
            " extracting: shapes/triangles/drawing(62).png  \n",
            " extracting: shapes/triangles/drawing(63).png  \n",
            " extracting: shapes/triangles/drawing(64).png  \n",
            " extracting: shapes/triangles/drawing(65).png  \n",
            " extracting: shapes/triangles/drawing(66).png  \n",
            " extracting: shapes/triangles/drawing(67).png  \n",
            " extracting: shapes/triangles/drawing(68).png  \n",
            " extracting: shapes/triangles/drawing(69).png  \n",
            " extracting: shapes/triangles/drawing(7).png  \n",
            " extracting: shapes/triangles/drawing(70).png  \n",
            " extracting: shapes/triangles/drawing(71).png  \n",
            " extracting: shapes/triangles/drawing(72).png  \n",
            " extracting: shapes/triangles/drawing(73).png  \n",
            " extracting: shapes/triangles/drawing(74).png  \n",
            " extracting: shapes/triangles/drawing(75).png  \n",
            " extracting: shapes/triangles/drawing(76).png  \n",
            " extracting: shapes/triangles/drawing(77).png  \n",
            " extracting: shapes/triangles/drawing(78).png  \n",
            " extracting: shapes/triangles/drawing(79).png  \n",
            " extracting: shapes/triangles/drawing(8).png  \n",
            " extracting: shapes/triangles/drawing(80).png  \n",
            " extracting: shapes/triangles/drawing(81).png  \n",
            " extracting: shapes/triangles/drawing(82).png  \n",
            " extracting: shapes/triangles/drawing(83).png  \n",
            " extracting: shapes/triangles/drawing(84).png  \n",
            " extracting: shapes/triangles/drawing(85).png  \n",
            " extracting: shapes/triangles/drawing(86).png  \n",
            " extracting: shapes/triangles/drawing(87).png  \n",
            " extracting: shapes/triangles/drawing(88).png  \n",
            " extracting: shapes/triangles/drawing(89).png  \n",
            " extracting: shapes/triangles/drawing(9).png  \n",
            " extracting: shapes/triangles/drawing(90).png  \n",
            " extracting: shapes/triangles/drawing(91).png  \n",
            " extracting: shapes/triangles/drawing(92).png  \n",
            " extracting: shapes/triangles/drawing(93).png  \n",
            " extracting: shapes/triangles/drawing(94).png  \n",
            " extracting: shapes/triangles/drawing(95).png  \n",
            " extracting: shapes/triangles/drawing(96).png  \n",
            " extracting: shapes/triangles/drawing(97).png  \n",
            " extracting: shapes/triangles/drawing(98).png  \n",
            " extracting: shapes/triangles/drawing(99).png  \n"
          ],
          "name": "stdout"
        }
      ]
    },
    {
      "cell_type": "code",
      "metadata": {
        "id": "juk5C-7XGkvu",
        "colab_type": "code",
        "colab": {}
      },
      "source": [
        "import os\n",
        "from glob import glob"
      ],
      "execution_count": null,
      "outputs": []
    },
    {
      "cell_type": "code",
      "metadata": {
        "id": "w0DVCHbqGuYI",
        "colab_type": "code",
        "colab": {
          "base_uri": "https://localhost:8080/",
          "height": 185
        },
        "outputId": "e884b9bb-51e3-4fd3-d68c-7dce48d823a9"
      },
      "source": [
        "glob('shapes/triangles/*')[:10]"
      ],
      "execution_count": null,
      "outputs": [
        {
          "output_type": "execute_result",
          "data": {
            "text/plain": [
              "['shapes/triangles/drawing(82).png',\n",
              " 'shapes/triangles/drawing(22).png',\n",
              " 'shapes/triangles/drawing(76).png',\n",
              " 'shapes/triangles/drawing(96).png',\n",
              " 'shapes/triangles/drawing(48).png',\n",
              " 'shapes/triangles/drawing(18).png',\n",
              " 'shapes/triangles/drawing(25).png',\n",
              " 'shapes/triangles/drawing(81).png',\n",
              " 'shapes/triangles/drawing(68).png',\n",
              " 'shapes/triangles/drawing(100).png']"
            ]
          },
          "metadata": {
            "tags": []
          },
          "execution_count": 5
        }
      ]
    },
    {
      "cell_type": "code",
      "metadata": {
        "id": "oOl4Uf35Gz_5",
        "colab_type": "code",
        "colab": {}
      },
      "source": [
        "import imageio\n",
        "import matplotlib.pyplot as plt"
      ],
      "execution_count": null,
      "outputs": []
    },
    {
      "cell_type": "code",
      "metadata": {
        "id": "nKUOnTQJTqKx",
        "colab_type": "code",
        "colab": {}
      },
      "source": [
        "temp = imageio.imread('shapes/triangles/drawing(18).png')"
      ],
      "execution_count": null,
      "outputs": []
    },
    {
      "cell_type": "code",
      "metadata": {
        "id": "uDrv0WyOTuz8",
        "colab_type": "code",
        "colab": {
          "base_uri": "https://localhost:8080/",
          "height": 34
        },
        "outputId": "8aafbb41-ad43-4d1d-d482-e2f520165f8f"
      },
      "source": [
        "temp.shape"
      ],
      "execution_count": null,
      "outputs": [
        {
          "output_type": "execute_result",
          "data": {
            "text/plain": [
              "(28, 28, 3)"
            ]
          },
          "metadata": {
            "tags": []
          },
          "execution_count": 11
        }
      ]
    },
    {
      "cell_type": "code",
      "metadata": {
        "id": "FxCQ2zblUgDD",
        "colab_type": "code",
        "colab": {
          "base_uri": "https://localhost:8080/",
          "height": 282
        },
        "outputId": "f60fa727-6f16-453e-925d-a475ea8a54c9"
      },
      "source": [
        "plt.imshow(temp)"
      ],
      "execution_count": null,
      "outputs": [
        {
          "output_type": "execute_result",
          "data": {
            "text/plain": [
              "<matplotlib.image.AxesImage at 0x7fe8bc73ce10>"
            ]
          },
          "metadata": {
            "tags": []
          },
          "execution_count": 12
        },
        {
          "output_type": "display_data",
          "data": {
            "image/png": "[encoded data removed]",
            "text/plain": [
              "<Figure size 432x288 with 1 Axes>"
            ]
          },
          "metadata": {
            "tags": [],
            "needs_background": "light"
          }
        }
      ]
    },
    {
      "cell_type": "code",
      "metadata": {
        "id": "3-y5H3jBG6V4",
        "colab_type": "code",
        "colab": {
          "base_uri": "https://localhost:8080/",
          "height": 146
        },
        "outputId": "cc1f4702-f016-4cf8-c92c-a8e3a7a2dc56"
      },
      "source": [
        "fig = plt.figure(figsize = (10,2))\n",
        "for i in range(1,6):\n",
        "  ax = plt.subplot(1,5,i)\n",
        "  img= imageio.imread(glob('shapes/triangles/*')[i])\n",
        "  plt.imshow(img)"
      ],
      "execution_count": null,
      "outputs": [
        {
          "output_type": "display_data",
          "data": {
            "image/png": "[encoded data removed]",
            "text/plain": [
              "<Figure size 720x144 with 5 Axes>"
            ]
          },
          "metadata": {
            "tags": [],
            "needs_background": "light"
          }
        }
      ]
    },
    {
      "cell_type": "code",
      "metadata": {
        "id": "x76XQJeBJF7B",
        "colab_type": "code",
        "colab": {}
      },
      "source": [
        "!rm -r /content/shapes/shapes"
      ],
      "execution_count": null,
      "outputs": []
    },
    {
      "cell_type": "code",
      "metadata": {
        "id": "DFBCQxtyMfrE",
        "colab_type": "code",
        "colab": {}
      },
      "source": [
        "!mkdir shapes_val\n",
        "!mkdir shapes_val/circles\n",
        "!mkdir shapes_val/squares\n",
        "!mkdir shapes_val/triangles"
      ],
      "execution_count": null,
      "outputs": []
    },
    {
      "cell_type": "code",
      "metadata": {
        "id": "oztUMRGjMvkP",
        "colab_type": "code",
        "colab": {}
      },
      "source": [
        "squares = glob('shapes/squares/*')\n",
        "circles = glob('shapes/circles/*')\n",
        "triangles = glob('shapes/triangles/*')"
      ],
      "execution_count": null,
      "outputs": []
    },
    {
      "cell_type": "code",
      "metadata": {
        "id": "kNke8uf-LuRd",
        "colab_type": "code",
        "colab": {
          "base_uri": "https://localhost:8080/",
          "height": 34
        },
        "outputId": "c60684fe-90d1-4320-9862-273bc34efc45"
      },
      "source": [
        "type(squares), len(squares)"
      ],
      "execution_count": null,
      "outputs": [
        {
          "output_type": "execute_result",
          "data": {
            "text/plain": [
              "(list, 100)"
            ]
          },
          "metadata": {
            "tags": []
          },
          "execution_count": 17
        }
      ]
    },
    {
      "cell_type": "code",
      "metadata": {
        "id": "JdhcV9sJNF--",
        "colab_type": "code",
        "colab": {}
      },
      "source": [
        "for img in squares[-20:]:\n",
        "  os.replace(img, img.replace('shapes', 'shapes_val'))\n",
        "for img in circles[-20:]:\n",
        "  os.replace(img, img.replace('shapes', 'shapes_val'))\n",
        "for img in triangles[-20:]:\n",
        "  os.replace(img, img.replace('shapes', 'shapes_val'))"
      ],
      "execution_count": null,
      "outputs": []
    },
    {
      "cell_type": "code",
      "metadata": {
        "id": "o2ulRccZJJWm",
        "colab_type": "code",
        "colab": {
          "base_uri": "https://localhost:8080/",
          "height": 793
        },
        "outputId": "f28d190b-de78-481f-bd93-e28419383672"
      },
      "source": [
        "!pip install --upgrade tensorflow keras"
      ],
      "execution_count": null,
      "outputs": [
        {
          "output_type": "stream",
          "text": [
            "Requirement already up-to-date: tensorflow in /usr/local/lib/python3.6/dist-packages (2.2.0)\n",
            "Collecting keras\n",
            "  Downloading https://files.pythonhosted.org/packages/44/e1/dc0757b20b56c980b5553c1b5c4c32d378c7055ab7bfa92006801ad359ab/Keras-2.4.3-py2.py3-none-any.whl\n",
            "Requirement already satisfied, skipping upgrade: tensorflow-estimator<2.3.0,>=2.2.0 in /usr/local/lib/python3.6/dist-packages (from tensorflow) (2.2.0)\n",
            "Requirement already satisfied, skipping upgrade: termcolor>=1.1.0 in /usr/local/lib/python3.6/dist-packages (from tensorflow) (1.1.0)\n",
            "Requirement already satisfied, skipping upgrade: absl-py>=0.7.0 in /usr/local/lib/python3.6/dist-packages (from tensorflow) (0.9.0)\n",
            "Requirement already satisfied, skipping upgrade: astunparse==1.6.3 in /usr/local/lib/python3.6/dist-packages (from tensorflow) (1.6.3)\n",
            "Requirement already satisfied, skipping upgrade: google-pasta>=0.1.8 in /usr/local/lib/python3.6/dist-packages (from tensorflow) (0.2.0)\n",
            "Requirement already satisfied, skipping upgrade: h5py<2.11.0,>=2.10.0 in /usr/local/lib/python3.6/dist-packages (from tensorflow) (2.10.0)\n",
            "Requirement already satisfied, skipping upgrade: opt-einsum>=2.3.2 in /usr/local/lib/python3.6/dist-packages (from tensorflow) (3.2.1)\n",
            "Requirement already satisfied, skipping upgrade: tensorboard<2.3.0,>=2.2.0 in /usr/local/lib/python3.6/dist-packages (from tensorflow) (2.2.2)\n",
            "Requirement already satisfied, skipping upgrade: wrapt>=1.11.1 in /usr/local/lib/python3.6/dist-packages (from tensorflow) (1.12.1)\n",
            "Requirement already satisfied, skipping upgrade: grpcio>=1.8.6 in /usr/local/lib/python3.6/dist-packages (from tensorflow) (1.30.0)\n",
            "Requirement already satisfied, skipping upgrade: wheel>=0.26; python_version >= \"3\" in /usr/local/lib/python3.6/dist-packages (from tensorflow) (0.34.2)\n",
            "Requirement already satisfied, skipping upgrade: scipy==1.4.1; python_version >= \"3\" in /usr/local/lib/python3.6/dist-packages (from tensorflow) (1.4.1)\n",
            "Requirement already satisfied, skipping upgrade: six>=1.12.0 in /usr/local/lib/python3.6/dist-packages (from tensorflow) (1.12.0)\n",
            "Requirement already satisfied, skipping upgrade: gast==0.3.3 in /usr/local/lib/python3.6/dist-packages (from tensorflow) (0.3.3)\n",
            "Requirement already satisfied, skipping upgrade: keras-preprocessing>=1.1.0 in /usr/local/lib/python3.6/dist-packages (from tensorflow) (1.1.2)\n",
            "Requirement already satisfied, skipping upgrade: numpy<2.0,>=1.16.0 in /usr/local/lib/python3.6/dist-packages (from tensorflow) (1.18.5)\n",
            "Requirement already satisfied, skipping upgrade: protobuf>=3.8.0 in /usr/local/lib/python3.6/dist-packages (from tensorflow) (3.10.0)\n",
            "Requirement already satisfied, skipping upgrade: pyyaml in /usr/local/lib/python3.6/dist-packages (from keras) (3.13)\n",
            "Requirement already satisfied, skipping upgrade: requests<3,>=2.21.0 in /usr/local/lib/python3.6/dist-packages (from tensorboard<2.3.0,>=2.2.0->tensorflow) (2.23.0)\n",
            "Requirement already satisfied, skipping upgrade: werkzeug>=0.11.15 in /usr/local/lib/python3.6/dist-packages (from tensorboard<2.3.0,>=2.2.0->tensorflow) (1.0.1)\n",
            "Requirement already satisfied, skipping upgrade: google-auth<2,>=1.6.3 in /usr/local/lib/python3.6/dist-packages (from tensorboard<2.3.0,>=2.2.0->tensorflow) (1.17.2)\n",
            "Requirement already satisfied, skipping upgrade: setuptools>=41.0.0 in /usr/local/lib/python3.6/dist-packages (from tensorboard<2.3.0,>=2.2.0->tensorflow) (47.3.1)\n",
            "Requirement already satisfied, skipping upgrade: google-auth-oauthlib<0.5,>=0.4.1 in /usr/local/lib/python3.6/dist-packages (from tensorboard<2.3.0,>=2.2.0->tensorflow) (0.4.1)\n",
            "Requirement already satisfied, skipping upgrade: markdown>=2.6.8 in /usr/local/lib/python3.6/dist-packages (from tensorboard<2.3.0,>=2.2.0->tensorflow) (3.2.2)\n",
            "Requirement already satisfied, skipping upgrade: tensorboard-plugin-wit>=1.6.0 in /usr/local/lib/python3.6/dist-packages (from tensorboard<2.3.0,>=2.2.0->tensorflow) (1.6.0.post3)\n",
            "Requirement already satisfied, skipping upgrade: idna<3,>=2.5 in /usr/local/lib/python3.6/dist-packages (from requests<3,>=2.21.0->tensorboard<2.3.0,>=2.2.0->tensorflow) (2.9)\n",
            "Requirement already satisfied, skipping upgrade: chardet<4,>=3.0.2 in /usr/local/lib/python3.6/dist-packages (from requests<3,>=2.21.0->tensorboard<2.3.0,>=2.2.0->tensorflow) (3.0.4)\n",
            "Requirement already satisfied, skipping upgrade: urllib3!=1.25.0,!=1.25.1,<1.26,>=1.21.1 in /usr/local/lib/python3.6/dist-packages (from requests<3,>=2.21.0->tensorboard<2.3.0,>=2.2.0->tensorflow) (1.24.3)\n",
            "Requirement already satisfied, skipping upgrade: certifi>=2017.4.17 in /usr/local/lib/python3.6/dist-packages (from requests<3,>=2.21.0->tensorboard<2.3.0,>=2.2.0->tensorflow) (2020.6.20)\n",
            "Requirement already satisfied, skipping upgrade: pyasn1-modules>=0.2.1 in /usr/local/lib/python3.6/dist-packages (from google-auth<2,>=1.6.3->tensorboard<2.3.0,>=2.2.0->tensorflow) (0.2.8)\n",
            "Requirement already satisfied, skipping upgrade: cachetools<5.0,>=2.0.0 in /usr/local/lib/python3.6/dist-packages (from google-auth<2,>=1.6.3->tensorboard<2.3.0,>=2.2.0->tensorflow) (4.1.0)\n",
            "Requirement already satisfied, skipping upgrade: rsa<5,>=3.1.4; python_version >= \"3\" in /usr/local/lib/python3.6/dist-packages (from google-auth<2,>=1.6.3->tensorboard<2.3.0,>=2.2.0->tensorflow) (4.6)\n",
            "Requirement already satisfied, skipping upgrade: requests-oauthlib>=0.7.0 in /usr/local/lib/python3.6/dist-packages (from google-auth-oauthlib<0.5,>=0.4.1->tensorboard<2.3.0,>=2.2.0->tensorflow) (1.3.0)\n",
            "Requirement already satisfied, skipping upgrade: importlib-metadata; python_version < \"3.8\" in /usr/local/lib/python3.6/dist-packages (from markdown>=2.6.8->tensorboard<2.3.0,>=2.2.0->tensorflow) (1.6.1)\n",
            "Requirement already satisfied, skipping upgrade: pyasn1<0.5.0,>=0.4.6 in /usr/local/lib/python3.6/dist-packages (from pyasn1-modules>=0.2.1->google-auth<2,>=1.6.3->tensorboard<2.3.0,>=2.2.0->tensorflow) (0.4.8)\n",
            "Requirement already satisfied, skipping upgrade: oauthlib>=3.0.0 in /usr/local/lib/python3.6/dist-packages (from requests-oauthlib>=0.7.0->google-auth-oauthlib<0.5,>=0.4.1->tensorboard<2.3.0,>=2.2.0->tensorflow) (3.1.0)\n",
            "Requirement already satisfied, skipping upgrade: zipp>=0.5 in /usr/local/lib/python3.6/dist-packages (from importlib-metadata; python_version < \"3.8\"->markdown>=2.6.8->tensorboard<2.3.0,>=2.2.0->tensorflow) (3.1.0)\n",
            "Installing collected packages: keras\n",
            "  Found existing installation: Keras 2.3.1\n",
            "    Uninstalling Keras-2.3.1:\n",
            "      Successfully uninstalled Keras-2.3.1\n",
            "Successfully installed keras-2.4.3\n"
          ],
          "name": "stdout"
        }
      ]
    },
    {
      "cell_type": "code",
      "metadata": {
        "id": "f8SOiCVtJS_u",
        "colab_type": "code",
        "colab": {}
      },
      "source": [
        "import keras"
      ],
      "execution_count": null,
      "outputs": []
    },
    {
      "cell_type": "code",
      "metadata": {
        "id": "QOD8yGqiJoaU",
        "colab_type": "code",
        "colab": {}
      },
      "source": [
        "from keras.models import Sequential\n",
        "from keras.layers import Conv2D, MaxPool2D, Flatten, Dense\n",
        "from keras.callbacks import EarlyStopping"
      ],
      "execution_count": null,
      "outputs": []
    },
    {
      "cell_type": "code",
      "metadata": {
        "id": "e_cqriqsJ7A_",
        "colab_type": "code",
        "colab": {}
      },
      "source": [
        "classifier = Sequential()\n",
        "\n",
        "# First Convolution Layer\n",
        "classifier.add(Conv2D(filters=32, kernel_size=(3,3), input_shape=(28,28,3), activation='relu'))\n",
        "classifier.add(MaxPool2D(pool_size=(2,2)))\n",
        "\n",
        "# Second Convolution Layer\n",
        "classifier.add(Conv2D(filters=32, kernel_size=(3,3), activation='relu'))\n",
        "classifier.add(MaxPool2D(pool_size=(2,2)))\n",
        "\n",
        "# Flattening\n",
        "classifier.add(Flatten())\n",
        "\n",
        "# Full Connection (Hidden Layers)\n",
        "classifier.add(Dense(64, activation='relu'))\n",
        "\n",
        "# Output Layer\n",
        "classifier.add(Dense(3, activation='softmax'))"
      ],
      "execution_count": null,
      "outputs": []
    },
    {
      "cell_type": "code",
      "metadata": {
        "id": "AOIgp8dePGX5",
        "colab_type": "code",
        "colab": {}
      },
      "source": [
        "classifier.compile(optimizer='adam', loss='categorical_crossentropy', metrics=['accuracy'])"
      ],
      "execution_count": null,
      "outputs": []
    },
    {
      "cell_type": "code",
      "metadata": {
        "id": "YqoXMJraJ-G6",
        "colab_type": "code",
        "colab": {
          "base_uri": "https://localhost:8080/",
          "height": 386
        },
        "outputId": "708d81f3-b3e6-499c-cbc9-07e1a82f39c8"
      },
      "source": [
        "classifier.summary()"
      ],
      "execution_count": null,
      "outputs": [
        {
          "output_type": "stream",
          "text": [
            "Model: \"sequential\"\n",
            "_________________________________________________________________\n",
            "Layer (type)                 Output Shape              Param #   \n",
            "=================================================================\n",
            "conv2d (Conv2D)              (None, 26, 26, 32)        896       \n",
            "_________________________________________________________________\n",
            "max_pooling2d (MaxPooling2D) (None, 13, 13, 32)        0         \n",
            "_________________________________________________________________\n",
            "conv2d_1 (Conv2D)            (None, 11, 11, 32)        9248      \n",
            "_________________________________________________________________\n",
            "max_pooling2d_1 (MaxPooling2 (None, 5, 5, 32)          0         \n",
            "_________________________________________________________________\n",
            "flatten (Flatten)            (None, 800)               0         \n",
            "_________________________________________________________________\n",
            "dense (Dense)                (None, 64)                51264     \n",
            "_________________________________________________________________\n",
            "dense_1 (Dense)              (None, 3)                 195       \n",
            "=================================================================\n",
            "Total params: 61,603\n",
            "Trainable params: 61,603\n",
            "Non-trainable params: 0\n",
            "_________________________________________________________________\n"
          ],
          "name": "stdout"
        }
      ]
    },
    {
      "cell_type": "code",
      "metadata": {
        "id": "c38Q_f9vLBfr",
        "colab_type": "code",
        "colab": {}
      },
      "source": [
        "from keras.preprocessing.image import ImageDataGenerator"
      ],
      "execution_count": null,
      "outputs": []
    },
    {
      "cell_type": "code",
      "metadata": {
        "id": "sUx2vHc3KFxW",
        "colab_type": "code",
        "colab": {
          "base_uri": "https://localhost:8080/",
          "height": 50
        },
        "outputId": "1f616f53-f521-4641-ba92-77bd420a0111"
      },
      "source": [
        "train_datagen = ImageDataGenerator(\n",
        "        rescale=1./255,\n",
        "        shear_range=0.2,\n",
        "        zoom_range=0.2,\n",
        "        horizontal_flip=True)\n",
        "\n",
        "train_set = train_datagen.flow_from_directory(\n",
        "        '/content/shapes',\n",
        "        target_size=(28, 28),\n",
        "        batch_size=32,\n",
        "        class_mode='categorical')\n",
        "\n",
        "validation_datagen = ImageDataGenerator(rescale=1./255)\n",
        "\n",
        "validation_set = validation_datagen.flow_from_directory(\n",
        "        '/content/shapes_val',\n",
        "        target_size=(28, 28),\n",
        "        batch_size=32,\n",
        "        class_mode='categorical')"
      ],
      "execution_count": null,
      "outputs": [
        {
          "output_type": "stream",
          "text": [
            "Found 240 images belonging to 3 classes.\n",
            "Found 60 images belonging to 3 classes.\n"
          ],
          "name": "stdout"
        }
      ]
    },
    {
      "cell_type": "code",
      "metadata": {
        "id": "SX6z-YmwTJyM",
        "colab_type": "code",
        "colab": {
          "base_uri": "https://localhost:8080/",
          "height": 34
        },
        "outputId": "c1e9e8f1-8f71-4b61-b84e-51fa027d8d85"
      },
      "source": [
        "train_set.class_indices"
      ],
      "execution_count": null,
      "outputs": [
        {
          "output_type": "execute_result",
          "data": {
            "text/plain": [
              "{'circles': 0, 'squares': 1, 'triangles': 2}"
            ]
          },
          "metadata": {
            "tags": []
          },
          "execution_count": 49
        }
      ]
    },
    {
      "cell_type": "code",
      "metadata": {
        "id": "XXECr0yMOpzv",
        "colab_type": "code",
        "colab": {
          "base_uri": "https://localhost:8080/",
          "height": 1000
        },
        "outputId": "c5ef5f60-bfa8-4a67-a596-565712a298b3"
      },
      "source": [
        "classifier.fit(\n",
        "        train_set,\n",
        "        epochs=50,\n",
        "        batch_size=32,\n",
        "        validation_data=validation_set)"
      ],
      "execution_count": null,
      "outputs": [
        {
          "output_type": "stream",
          "text": [
            "Epoch 1/50\n",
            "8/8 [==============================] - 0s 32ms/step - loss: 0.5895 - accuracy: 0.7583 - val_loss: 0.6911 - val_accuracy: 0.7000\n",
            "Epoch 2/50\n",
            "8/8 [==============================] - 0s 33ms/step - loss: 0.5767 - accuracy: 0.7750 - val_loss: 0.7131 - val_accuracy: 0.6833\n",
            "Epoch 3/50\n",
            "8/8 [==============================] - 0s 33ms/step - loss: 0.5044 - accuracy: 0.8125 - val_loss: 0.6025 - val_accuracy: 0.7833\n",
            "Epoch 4/50\n",
            "8/8 [==============================] - 0s 33ms/step - loss: 0.4661 - accuracy: 0.8625 - val_loss: 0.5932 - val_accuracy: 0.8167\n",
            "Epoch 5/50\n",
            "8/8 [==============================] - 0s 31ms/step - loss: 0.5128 - accuracy: 0.8000 - val_loss: 0.5864 - val_accuracy: 0.7833\n",
            "Epoch 6/50\n",
            "8/8 [==============================] - 0s 31ms/step - loss: 0.4191 - accuracy: 0.8917 - val_loss: 0.6501 - val_accuracy: 0.7667\n",
            "Epoch 7/50\n",
            "8/8 [==============================] - 0s 34ms/step - loss: 0.4106 - accuracy: 0.8667 - val_loss: 0.5956 - val_accuracy: 0.7833\n",
            "Epoch 8/50\n",
            "8/8 [==============================] - 0s 32ms/step - loss: 0.3408 - accuracy: 0.8833 - val_loss: 0.5650 - val_accuracy: 0.8500\n",
            "Epoch 9/50\n",
            "8/8 [==============================] - 0s 34ms/step - loss: 0.3275 - accuracy: 0.9000 - val_loss: 0.5202 - val_accuracy: 0.8333\n",
            "Epoch 10/50\n",
            "8/8 [==============================] - 0s 33ms/step - loss: 0.2988 - accuracy: 0.9042 - val_loss: 0.5804 - val_accuracy: 0.8000\n",
            "Epoch 11/50\n",
            "8/8 [==============================] - 0s 32ms/step - loss: 0.2986 - accuracy: 0.9083 - val_loss: 0.5247 - val_accuracy: 0.8000\n",
            "Epoch 12/50\n",
            "8/8 [==============================] - 0s 34ms/step - loss: 0.2936 - accuracy: 0.9042 - val_loss: 0.4917 - val_accuracy: 0.8500\n",
            "Epoch 13/50\n",
            "8/8 [==============================] - 0s 35ms/step - loss: 0.2670 - accuracy: 0.9042 - val_loss: 0.5268 - val_accuracy: 0.8333\n",
            "Epoch 14/50\n",
            "8/8 [==============================] - 0s 35ms/step - loss: 0.2660 - accuracy: 0.9083 - val_loss: 0.4990 - val_accuracy: 0.8333\n",
            "Epoch 15/50\n",
            "8/8 [==============================] - 0s 34ms/step - loss: 0.2507 - accuracy: 0.9250 - val_loss: 0.4494 - val_accuracy: 0.8500\n",
            "Epoch 16/50\n",
            "8/8 [==============================] - 0s 35ms/step - loss: 0.2339 - accuracy: 0.9208 - val_loss: 0.4821 - val_accuracy: 0.8167\n",
            "Epoch 17/50\n",
            "8/8 [==============================] - 0s 32ms/step - loss: 0.1997 - accuracy: 0.9250 - val_loss: 0.4737 - val_accuracy: 0.8667\n",
            "Epoch 18/50\n",
            "8/8 [==============================] - 0s 32ms/step - loss: 0.1978 - accuracy: 0.9375 - val_loss: 0.4706 - val_accuracy: 0.8500\n",
            "Epoch 19/50\n",
            "8/8 [==============================] - 0s 33ms/step - loss: 0.2125 - accuracy: 0.9292 - val_loss: 0.4726 - val_accuracy: 0.8167\n",
            "Epoch 20/50\n",
            "8/8 [==============================] - 0s 33ms/step - loss: 0.2086 - accuracy: 0.9375 - val_loss: 0.4414 - val_accuracy: 0.8500\n",
            "Epoch 21/50\n",
            "8/8 [==============================] - 0s 33ms/step - loss: 0.2062 - accuracy: 0.9208 - val_loss: 0.4800 - val_accuracy: 0.8833\n",
            "Epoch 22/50\n",
            "8/8 [==============================] - 0s 32ms/step - loss: 0.2639 - accuracy: 0.8833 - val_loss: 0.4179 - val_accuracy: 0.8167\n",
            "Epoch 23/50\n",
            "8/8 [==============================] - 0s 33ms/step - loss: 0.1991 - accuracy: 0.9417 - val_loss: 0.4310 - val_accuracy: 0.8667\n",
            "Epoch 24/50\n",
            "8/8 [==============================] - 0s 33ms/step - loss: 0.2139 - accuracy: 0.9125 - val_loss: 0.3619 - val_accuracy: 0.8833\n",
            "Epoch 25/50\n",
            "8/8 [==============================] - 0s 31ms/step - loss: 0.1888 - accuracy: 0.9375 - val_loss: 0.4579 - val_accuracy: 0.8500\n",
            "Epoch 26/50\n",
            "8/8 [==============================] - 0s 33ms/step - loss: 0.1794 - accuracy: 0.9417 - val_loss: 0.4522 - val_accuracy: 0.8667\n",
            "Epoch 27/50\n",
            "8/8 [==============================] - 0s 34ms/step - loss: 0.1534 - accuracy: 0.9500 - val_loss: 0.7313 - val_accuracy: 0.7667\n",
            "Epoch 28/50\n",
            "8/8 [==============================] - 0s 33ms/step - loss: 0.2076 - accuracy: 0.9083 - val_loss: 0.6053 - val_accuracy: 0.7833\n",
            "Epoch 29/50\n",
            "8/8 [==============================] - 0s 32ms/step - loss: 0.1804 - accuracy: 0.9292 - val_loss: 0.5354 - val_accuracy: 0.8500\n",
            "Epoch 30/50\n",
            "8/8 [==============================] - 0s 37ms/step - loss: 0.1780 - accuracy: 0.9500 - val_loss: 0.4008 - val_accuracy: 0.8667\n",
            "Epoch 31/50\n",
            "8/8 [==============================] - 0s 35ms/step - loss: 0.1657 - accuracy: 0.9417 - val_loss: 0.3928 - val_accuracy: 0.8833\n",
            "Epoch 32/50\n",
            "8/8 [==============================] - 0s 34ms/step - loss: 0.1621 - accuracy: 0.9458 - val_loss: 0.4677 - val_accuracy: 0.8500\n",
            "Epoch 33/50\n",
            "8/8 [==============================] - 0s 35ms/step - loss: 0.1221 - accuracy: 0.9625 - val_loss: 0.4463 - val_accuracy: 0.8833\n",
            "Epoch 34/50\n",
            "8/8 [==============================] - 0s 35ms/step - loss: 0.1406 - accuracy: 0.9542 - val_loss: 0.4572 - val_accuracy: 0.8667\n",
            "Epoch 35/50\n",
            "8/8 [==============================] - 0s 32ms/step - loss: 0.1038 - accuracy: 0.9750 - val_loss: 0.4266 - val_accuracy: 0.9000\n",
            "Epoch 36/50\n",
            "8/8 [==============================] - 0s 34ms/step - loss: 0.1369 - accuracy: 0.9417 - val_loss: 0.4172 - val_accuracy: 0.8833\n",
            "Epoch 37/50\n",
            "8/8 [==============================] - 0s 32ms/step - loss: 0.1329 - accuracy: 0.9583 - val_loss: 0.4312 - val_accuracy: 0.9000\n",
            "Epoch 38/50\n",
            "8/8 [==============================] - 0s 33ms/step - loss: 0.1221 - accuracy: 0.9625 - val_loss: 0.5029 - val_accuracy: 0.8667\n",
            "Epoch 39/50\n",
            "8/8 [==============================] - 0s 35ms/step - loss: 0.1126 - accuracy: 0.9583 - val_loss: 0.4452 - val_accuracy: 0.8833\n",
            "Epoch 40/50\n",
            "8/8 [==============================] - 0s 34ms/step - loss: 0.1142 - accuracy: 0.9667 - val_loss: 0.3260 - val_accuracy: 0.9000\n",
            "Epoch 41/50\n",
            "8/8 [==============================] - 0s 34ms/step - loss: 0.1094 - accuracy: 0.9583 - val_loss: 0.4064 - val_accuracy: 0.9000\n",
            "Epoch 42/50\n",
            "8/8 [==============================] - 0s 34ms/step - loss: 0.0799 - accuracy: 0.9708 - val_loss: 0.3794 - val_accuracy: 0.9000\n",
            "Epoch 43/50\n",
            "8/8 [==============================] - 0s 33ms/step - loss: 0.0761 - accuracy: 0.9875 - val_loss: 0.3978 - val_accuracy: 0.8833\n",
            "Epoch 44/50\n",
            "8/8 [==============================] - 0s 33ms/step - loss: 0.0897 - accuracy: 0.9792 - val_loss: 0.2963 - val_accuracy: 0.9000\n",
            "Epoch 45/50\n",
            "8/8 [==============================] - 0s 32ms/step - loss: 0.1082 - accuracy: 0.9542 - val_loss: 0.4410 - val_accuracy: 0.8833\n",
            "Epoch 46/50\n",
            "8/8 [==============================] - 0s 34ms/step - loss: 0.1008 - accuracy: 0.9667 - val_loss: 0.4030 - val_accuracy: 0.9000\n",
            "Epoch 47/50\n",
            "8/8 [==============================] - 0s 32ms/step - loss: 0.0842 - accuracy: 0.9667 - val_loss: 0.6146 - val_accuracy: 0.8500\n",
            "Epoch 48/50\n",
            "8/8 [==============================] - 0s 32ms/step - loss: 0.1126 - accuracy: 0.9542 - val_loss: 0.3992 - val_accuracy: 0.8667\n",
            "Epoch 49/50\n",
            "8/8 [==============================] - 0s 36ms/step - loss: 0.1259 - accuracy: 0.9500 - val_loss: 0.3082 - val_accuracy: 0.9000\n",
            "Epoch 50/50\n",
            "8/8 [==============================] - 0s 34ms/step - loss: 0.0768 - accuracy: 0.9792 - val_loss: 0.4392 - val_accuracy: 0.8500\n"
          ],
          "name": "stdout"
        },
        {
          "output_type": "execute_result",
          "data": {
            "text/plain": [
              "<tensorflow.python.keras.callbacks.History at 0x7fe81c71b828>"
            ]
          },
          "metadata": {
            "tags": []
          },
          "execution_count": 68
        }
      ]
    },
    {
      "cell_type": "code",
      "metadata": {
        "id": "AijnbpUzY3tb",
        "colab_type": "code",
        "colab": {
          "base_uri": "https://localhost:8080/",
          "height": 121
        },
        "outputId": "ca11671d-d8a3-4d62-a112-0ced874bf8b6"
      },
      "source": [
        "from google.colab import drive\n",
        "drive.mount('/content/drive')"
      ],
      "execution_count": null,
      "outputs": [
        {
          "output_type": "stream",
          "text": [
            "Go to this URL in a browser: https://accounts.google.com/o/oauth2/auth?client_id=947318989803-6bn6qk8qdgf4n4g3pfee6491hc0brc4i.apps.googleusercontent.com&redirect_uri=urn%3aietf%3awg%3aoauth%3a2.0%3aoob&response_type=code&scope=email%20https%3a%2f%2fwww.googleapis.com%2fauth%2fdocs.test%20https%3a%2f%2fwww.googleapis.com%2fauth%2fdrive%20https%3a%2f%2fwww.googleapis.com%2fauth%2fdrive.photos.readonly%20https%3a%2f%2fwww.googleapis.com%2fauth%2fpeopleapi.readonly\n",
            "\n",
            "Enter your authorization code:\n",
            "··········\n",
            "Mounted at /content/drive\n"
          ],
          "name": "stdout"
        }
      ]
    },
    {
      "cell_type": "code",
      "metadata": {
        "id": "FigkxyncesHf",
        "colab_type": "code",
        "colab": {}
      },
      "source": [
        "from PIL import Image"
      ],
      "execution_count": null,
      "outputs": []
    },
    {
      "cell_type": "code",
      "metadata": {
        "id": "3fZoQTLpffrm",
        "colab_type": "code",
        "colab": {}
      },
      "source": [
        "circle_png = Image.open('/content/drive/My Drive/datasets/circle.png')\n",
        "sq = Image.open('/content/drive/My Drive/datasets/squares.png')\n",
        "tr = Image.open('/content/drive/My Drive/datasets/Triangle.png')"
      ],
      "execution_count": null,
      "outputs": []
    },
    {
      "cell_type": "code",
      "metadata": {
        "id": "jrz0wtpfgWpa",
        "colab_type": "code",
        "colab": {
          "base_uri": "https://localhost:8080/",
          "height": 286
        },
        "outputId": "9abcc710-b641-40b2-9d01-2373507e2df2"
      },
      "source": [
        "plt.imshow(sq)"
      ],
      "execution_count": null,
      "outputs": [
        {
          "output_type": "execute_result",
          "data": {
            "text/plain": [
              "<matplotlib.image.AxesImage at 0x7fe81c28c080>"
            ]
          },
          "metadata": {
            "tags": []
          },
          "execution_count": 70
        },
        {
          "output_type": "display_data",
          "data": {
            "image/png": "[encoded data removed]",
            "text/plain": [
              "<Figure size 432x288 with 1 Axes>"
            ]
          },
          "metadata": {
            "tags": [],
            "needs_background": "light"
          }
        }
      ]
    },
    {
      "cell_type": "code",
      "metadata": {
        "id": "-FwT59lwfwdy",
        "colab_type": "code",
        "colab": {}
      },
      "source": [
        "circle_png = circle_png.convert('RGB')\n",
        "sq = sq.convert('RGB')\n",
        "tr = tr.convert('RGB')"
      ],
      "execution_count": null,
      "outputs": []
    },
    {
      "cell_type": "code",
      "metadata": {
        "id": "W1KeqT2lf3N5",
        "colab_type": "code",
        "colab": {}
      },
      "source": [
        "circle_png = circle_png.resize((28,28), Image.ANTIALIAS)\n",
        "sq = sq.resize((28,28), Image.ANTIALIAS)\n",
        "tr = tr.resize((28,28), Image.ANTIALIAS)"
      ],
      "execution_count": null,
      "outputs": []
    },
    {
      "cell_type": "code",
      "metadata": {
        "id": "DTOWmo8AgJQu",
        "colab_type": "code",
        "colab": {
          "base_uri": "https://localhost:8080/",
          "height": 282
        },
        "outputId": "8652da4a-9c93-4652-8daf-13d8051a7f02"
      },
      "source": [
        "plt.imshow(sq)"
      ],
      "execution_count": null,
      "outputs": [
        {
          "output_type": "execute_result",
          "data": {
            "text/plain": [
              "<matplotlib.image.AxesImage at 0x7fe81c1eb860>"
            ]
          },
          "metadata": {
            "tags": []
          },
          "execution_count": 73
        },
        {
          "output_type": "display_data",
          "data": {
            "image/png": "[encoded data removed]",
            "text/plain": [
              "<Figure size 432x288 with 1 Axes>"
            ]
          },
          "metadata": {
            "tags": [],
            "needs_background": "light"
          }
        }
      ]
    },
    {
      "cell_type": "code",
      "metadata": {
        "id": "wB4kK2Oph6ns",
        "colab_type": "code",
        "colab": {}
      },
      "source": [
        "import pandas as pd\n",
        "import numpy as np"
      ],
      "execution_count": null,
      "outputs": []
    },
    {
      "cell_type": "code",
      "metadata": {
        "id": "b3JqhAbJmQJo",
        "colab_type": "code",
        "colab": {
          "base_uri": "https://localhost:8080/",
          "height": 34
        },
        "outputId": "b9d31a6d-4c1c-42a6-ef04-20bba57008b9"
      },
      "source": [
        "np.array(sq).shape"
      ],
      "execution_count": null,
      "outputs": [
        {
          "output_type": "execute_result",
          "data": {
            "text/plain": [
              "(28, 28, 3)"
            ]
          },
          "metadata": {
            "tags": []
          },
          "execution_count": 75
        }
      ]
    },
    {
      "cell_type": "code",
      "metadata": {
        "id": "QqFJAw_xpEfg",
        "colab_type": "code",
        "colab": {}
      },
      "source": [
        "np.set_printoptions(suppress=True)"
      ],
      "execution_count": null,
      "outputs": []
    },
    {
      "cell_type": "code",
      "metadata": {
        "id": "41Q-f16YgOjK",
        "colab_type": "code",
        "colab": {
          "base_uri": "https://localhost:8080/",
          "height": 34
        },
        "outputId": "fa4462ae-0fb4-4764-b710-b5695d51e698"
      },
      "source": [
        "classifier.predict(np.array(tr).reshape(1,28,28,3))"
      ],
      "execution_count": null,
      "outputs": [
        {
          "output_type": "execute_result",
          "data": {
            "text/plain": [
              "array([[0., 0., 1.]], dtype=float32)"
            ]
          },
          "metadata": {
            "tags": []
          },
          "execution_count": 79
        }
      ]
    },
    {
      "cell_type": "code",
      "metadata": {
        "id": "GqQgpaqig0Fc",
        "colab_type": "code",
        "colab": {
          "base_uri": "https://localhost:8080/",
          "height": 34
        },
        "outputId": "7638e753-f272-42e2-e7d8-f422aa1f0dae"
      },
      "source": [
        "train_set.class_indices"
      ],
      "execution_count": null,
      "outputs": [
        {
          "output_type": "execute_result",
          "data": {
            "text/plain": [
              "{'circles': 0, 'squares': 1, 'triangles': 2}"
            ]
          },
          "metadata": {
            "tags": []
          },
          "execution_count": 59
        }
      ]
    }
  ]
}