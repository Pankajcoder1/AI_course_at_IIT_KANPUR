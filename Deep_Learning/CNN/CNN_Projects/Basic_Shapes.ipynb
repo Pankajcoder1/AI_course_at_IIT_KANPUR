{
 "cells": [
  {
   "cell_type": "code",
   "execution_count": 0,
   "metadata": {
    "colab": {},
    "colab_type": "code",
    "id": "_KQnY0loGZMo"
   },
   "outputs": [],
   "source": [
    "!unzip basicshapes.zip"
   ]
  },
  {
   "cell_type": "code",
   "execution_count": 0,
   "metadata": {
    "colab": {},
    "colab_type": "code",
    "id": "juk5C-7XGkvu"
   },
   "outputs": [],
   "source": [
    "import os\n",
    "from glob import glob"
   ]
  },
  {
   "cell_type": "code",
   "execution_count": 0,
   "metadata": {
    "colab": {
     "base_uri": "https://localhost:8080/",
     "height": 185
    },
    "colab_type": "code",
    "id": "w0DVCHbqGuYI",
    "outputId": "41716f18-8daf-4485-a634-165b812fe256"
   },
   "outputs": [
    {
     "data": {
      "text/plain": [
       "['shapes/triangles/drawing(96).png',\n",
       " 'shapes/triangles/drawing(2).png',\n",
       " 'shapes/triangles/drawing(95).png',\n",
       " 'shapes/triangles/drawing(78).png',\n",
       " 'shapes/triangles/drawing(13).png',\n",
       " 'shapes/triangles/drawing(11).png',\n",
       " 'shapes/triangles/drawing(41).png',\n",
       " 'shapes/triangles/drawing(79).png',\n",
       " 'shapes/triangles/drawing(36).png',\n",
       " 'shapes/triangles/drawing(18).png']"
      ]
     },
     "execution_count": 38,
     "metadata": {
      "tags": []
     },
     "output_type": "execute_result"
    }
   ],
   "source": [
    "glob('shapes/triangles/*')[:10]"
   ]
  },
  {
   "cell_type": "code",
   "execution_count": 0,
   "metadata": {
    "colab": {},
    "colab_type": "code",
    "id": "oOl4Uf35Gz_5"
   },
   "outputs": [],
   "source": [
    "import imageio\n",
    "import matplotlib.pyplot as plt"
   ]
  },
  {
   "cell_type": "code",
   "execution_count": 0,
   "metadata": {
    "colab": {},
    "colab_type": "code",
    "id": "nKUOnTQJTqKx"
   },
   "outputs": [],
   "source": [
    "temp = imageio.imread('shapes/triangles/drawing(96).png')"
   ]
  },
  {
   "cell_type": "code",
   "execution_count": 0,
   "metadata": {
    "colab": {
     "base_uri": "https://localhost:8080/",
     "height": 34
    },
    "colab_type": "code",
    "id": "uDrv0WyOTuz8",
    "outputId": "38294122-3cd4-4ddd-f8c2-bf642ef52b14"
   },
   "outputs": [
    {
     "data": {
      "text/plain": [
       "(28, 28, 3)"
      ]
     },
     "execution_count": 42,
     "metadata": {
      "tags": []
     },
     "output_type": "execute_result"
    }
   ],
   "source": [
    "temp.shape"
   ]
  },
  {
   "cell_type": "code",
   "execution_count": 0,
   "metadata": {
    "colab": {
     "base_uri": "https://localhost:8080/",
     "height": 146
    },
    "colab_type": "code",
    "id": "3-y5H3jBG6V4",
    "outputId": "a32a5743-0f97-40da-ffef-a93272b673f5"
   },
   "outputs": [
    {
     "data": {
      "image/png": "[encoded data removed]",
      "text/plain": [
       "<Figure size 720x144 with 5 Axes>"
      ]
     },
     "metadata": {
      "tags": []
     },
     "output_type": "display_data"
    }
   ],
   "source": [
    "fig = plt.figure(figsize = (10,2))\n",
    "for i in range(1,6):\n",
    "    ax = plt.subplot(1,5,i)\n",
    "    img= imageio.imread(glob('shapes/circles/*')[i])\n",
    "    plt.imshow(img)\n",
    "\n"
   ]
  },
  {
   "cell_type": "code",
   "execution_count": 0,
   "metadata": {
    "colab": {},
    "colab_type": "code",
    "id": "x76XQJeBJF7B"
   },
   "outputs": [],
   "source": [
    "!rm -r /content/shapes/shapes"
   ]
  },
  {
   "cell_type": "code",
   "execution_count": 0,
   "metadata": {
    "colab": {},
    "colab_type": "code",
    "id": "DFBCQxtyMfrE"
   },
   "outputs": [],
   "source": [
    "!mkdir shapes_val\n",
    "!mkdir shapes_val/circles\n",
    "!mkdir shapes_val/squares\n",
    "!mkdir shapes_val/triangles"
   ]
  },
  {
   "cell_type": "code",
   "execution_count": 0,
   "metadata": {
    "colab": {},
    "colab_type": "code",
    "id": "oztUMRGjMvkP"
   },
   "outputs": [],
   "source": [
    "squares = glob('shapes/squares/*')\n",
    "circles = glob('shapes/circles/*')\n",
    "triangles = glob('shapes/triangles/*')"
   ]
  },
  {
   "cell_type": "code",
   "execution_count": 0,
   "metadata": {
    "colab": {
     "base_uri": "https://localhost:8080/",
     "height": 34
    },
    "colab_type": "code",
    "id": "uII_TgImNzfC",
    "outputId": "92a1d260-ffa7-49a2-989c-ff4c338c86b0"
   },
   "outputs": [
    {
     "data": {
      "text/plain": [
       "80"
      ]
     },
     "execution_count": 21,
     "metadata": {
      "tags": []
     },
     "output_type": "execute_result"
    }
   ],
   "source": [
    "len(triangles)"
   ]
  },
  {
   "cell_type": "code",
   "execution_count": 0,
   "metadata": {
    "colab": {},
    "colab_type": "code",
    "id": "JdhcV9sJNF--"
   },
   "outputs": [],
   "source": [
    "for img in squares[-20:]:\n",
    "    os.replace(img, img.replace('shapes', 'shapes_val'))\n",
    "for img in circles[-20:]:\n",
    "    os.replace(img, img.replace('shapes', 'shapes_val'))\n",
    "for img in triangles[-20:]:\n",
    "    os.replace(img, img.replace('shapes', 'shapes_val'))"
   ]
  },
  {
   "cell_type": "code",
   "execution_count": 0,
   "metadata": {
    "colab": {},
    "colab_type": "code",
    "id": "o2ulRccZJJWm"
   },
   "outputs": [],
   "source": [
    "!pip install --upgrade tensorflow keras"
   ]
  },
  {
   "cell_type": "code",
   "execution_count": 0,
   "metadata": {
    "colab": {
     "base_uri": "https://localhost:8080/",
     "height": 34
    },
    "colab_type": "code",
    "id": "f8SOiCVtJS_u",
    "outputId": "32b094a2-8456-47ae-ebed-050abbadf223"
   },
   "outputs": [
    {
     "name": "stderr",
     "output_type": "stream",
     "text": [
      "Using TensorFlow backend.\n"
     ]
    }
   ],
   "source": [
    "import keras"
   ]
  },
  {
   "cell_type": "code",
   "execution_count": 0,
   "metadata": {
    "colab": {},
    "colab_type": "code",
    "id": "QOD8yGqiJoaU"
   },
   "outputs": [],
   "source": [
    "from keras.models import Sequential\n",
    "from keras.layers import Conv2D, MaxPool2D, Flatten, Dense\n",
    "from keras.callbacks import EarlyStopping"
   ]
  },
  {
   "cell_type": "code",
   "execution_count": 0,
   "metadata": {
    "colab": {},
    "colab_type": "code",
    "id": "e_cqriqsJ7A_"
   },
   "outputs": [],
   "source": [
    "classifier = Sequential()\n",
    "\n",
    "# First Convolution Layer\n",
    "classifier.add(Conv2D(filters=32, kernel_size=(3,3), input_shape=(28,28,3), activation='relu'))\n",
    "classifier.add(MaxPool2D(pool_size=(2,2)))\n",
    "\n",
    "# Second Convolution Layer\n",
    "classifier.add(Conv2D(filters=32, kernel_size=(3,3), activation='relu'))\n",
    "classifier.add(MaxPool2D(pool_size=(2,2)))\n",
    "\n",
    "# Flattening\n",
    "classifier.add(Flatten())\n",
    "\n",
    "# Full Connection (Hidden Layers)\n",
    "classifier.add(Dense(64, activation='relu'))\n",
    "\n",
    "# Output Layer\n",
    "classifier.add(Dense(3, activation='softmax'))"
   ]
  },
  {
   "cell_type": "code",
   "execution_count": 0,
   "metadata": {
    "colab": {},
    "colab_type": "code",
    "id": "AOIgp8dePGX5"
   },
   "outputs": [],
   "source": [
    "classifier.compile(optimizer='adam', loss='categorical_crossentropy', metrics=['accuracy'])"
   ]
  },
  {
   "cell_type": "code",
   "execution_count": 0,
   "metadata": {
    "colab": {
     "base_uri": "https://localhost:8080/",
     "height": 386
    },
    "colab_type": "code",
    "id": "YqoXMJraJ-G6",
    "outputId": "a8f074e8-bfca-44d4-ee91-a23a319668e4"
   },
   "outputs": [
    {
     "name": "stdout",
     "output_type": "stream",
     "text": [
      "Model: \"sequential_4\"\n",
      "_________________________________________________________________\n",
      "Layer (type)                 Output Shape              Param #   \n",
      "=================================================================\n",
      "conv2d_6 (Conv2D)            (None, 26, 26, 32)        896       \n",
      "_________________________________________________________________\n",
      "max_pooling2d_5 (MaxPooling2 (None, 13, 13, 32)        0         \n",
      "_________________________________________________________________\n",
      "conv2d_7 (Conv2D)            (None, 11, 11, 32)        9248      \n",
      "_________________________________________________________________\n",
      "max_pooling2d_6 (MaxPooling2 (None, 5, 5, 32)          0         \n",
      "_________________________________________________________________\n",
      "flatten_3 (Flatten)          (None, 800)               0         \n",
      "_________________________________________________________________\n",
      "dense_5 (Dense)              (None, 64)                51264     \n",
      "_________________________________________________________________\n",
      "dense_6 (Dense)              (None, 3)                 195       \n",
      "=================================================================\n",
      "Total params: 61,603\n",
      "Trainable params: 61,603\n",
      "Non-trainable params: 0\n",
      "_________________________________________________________________\n"
     ]
    }
   ],
   "source": [
    "classifier.summary()"
   ]
  },
  {
   "cell_type": "code",
   "execution_count": 0,
   "metadata": {
    "colab": {},
    "colab_type": "code",
    "id": "c38Q_f9vLBfr"
   },
   "outputs": [],
   "source": [
    "from keras.preprocessing.image import ImageDataGenerator"
   ]
  },
  {
   "cell_type": "code",
   "execution_count": 0,
   "metadata": {
    "colab": {
     "base_uri": "https://localhost:8080/",
     "height": 50
    },
    "colab_type": "code",
    "id": "sUx2vHc3KFxW",
    "outputId": "c5c73c86-1e9b-44bf-eb83-fbfa8ebd5995"
   },
   "outputs": [
    {
     "name": "stdout",
     "output_type": "stream",
     "text": [
      "Found 240 images belonging to 3 classes.\n",
      "Found 60 images belonging to 3 classes.\n"
     ]
    }
   ],
   "source": [
    "train_datagen = ImageDataGenerator(\n",
    "        rescale=1./255,\n",
    "        shear_range=0.2,\n",
    "        zoom_range=0.2,\n",
    "        horizontal_flip=True)\n",
    "\n",
    "train_set = train_datagen.flow_from_directory(\n",
    "        '/content/shapes',\n",
    "        target_size=(28, 28),\n",
    "        batch_size=32,\n",
    "        class_mode='categorical')\n",
    "\n",
    "validation_datagen = ImageDataGenerator(rescale=1./255)\n",
    "\n",
    "validation_set = validation_datagen.flow_from_directory(\n",
    "        '/content/shapes_val',\n",
    "        target_size=(28, 28),\n",
    "        batch_size=32,\n",
    "        class_mode='categorical')"
   ]
  },
  {
   "cell_type": "code",
   "execution_count": 0,
   "metadata": {
    "colab": {
     "base_uri": "https://localhost:8080/",
     "height": 34
    },
    "colab_type": "code",
    "id": "SX6z-YmwTJyM",
    "outputId": "d2ea0570-f9df-4991-f8d5-45b47e141fa9"
   },
   "outputs": [
    {
     "data": {
      "text/plain": [
       "{'circles': 0, 'squares': 1, 'triangles': 2}"
      ]
     },
     "execution_count": 54,
     "metadata": {
      "tags": []
     },
     "output_type": "execute_result"
    }
   ],
   "source": [
    "train_set.class_indices"
   ]
  },
  {
   "cell_type": "code",
   "execution_count": 0,
   "metadata": {
    "colab": {
     "base_uri": "https://localhost:8080/",
     "height": 706
    },
    "colab_type": "code",
    "id": "XXECr0yMOpzv",
    "outputId": "48feb110-8e1f-4c7c-e85c-38153b0eefc3"
   },
   "outputs": [
    {
     "name": "stdout",
     "output_type": "stream",
     "text": [
      "Epoch 1/20\n",
      "240/240 [==============================] - 15s 63ms/step - loss: 0.7580 - accuracy: 0.6669 - val_loss: 0.4920 - val_accuracy: 0.7833\n",
      "Epoch 2/20\n",
      "240/240 [==============================] - 15s 62ms/step - loss: 0.1958 - accuracy: 0.9383 - val_loss: 0.2453 - val_accuracy: 0.8167\n",
      "Epoch 3/20\n",
      "240/240 [==============================] - 15s 62ms/step - loss: 0.0730 - accuracy: 0.9804 - val_loss: 0.3864 - val_accuracy: 0.8333\n",
      "Epoch 4/20\n",
      "240/240 [==============================] - 15s 62ms/step - loss: 0.0460 - accuracy: 0.9864 - val_loss: 0.6786 - val_accuracy: 0.8500\n",
      "Epoch 5/20\n",
      "240/240 [==============================] - 15s 62ms/step - loss: 0.0294 - accuracy: 0.9917 - val_loss: 0.8272 - val_accuracy: 0.8667\n",
      "Epoch 6/20\n",
      "240/240 [==============================] - 15s 62ms/step - loss: 0.0238 - accuracy: 0.9929 - val_loss: 0.6475 - val_accuracy: 0.8500\n",
      "Epoch 7/20\n",
      "240/240 [==============================] - 15s 62ms/step - loss: 0.0161 - accuracy: 0.9953 - val_loss: 1.3125 - val_accuracy: 0.8333\n",
      "Epoch 8/20\n",
      "240/240 [==============================] - 15s 62ms/step - loss: 0.0127 - accuracy: 0.9967 - val_loss: 1.0636 - val_accuracy: 0.8667\n",
      "Epoch 9/20\n",
      "240/240 [==============================] - 15s 62ms/step - loss: 0.0080 - accuracy: 0.9976 - val_loss: 0.6758 - val_accuracy: 0.8833\n",
      "Epoch 10/20\n",
      "240/240 [==============================] - 15s 62ms/step - loss: 0.0040 - accuracy: 0.9989 - val_loss: 0.7330 - val_accuracy: 0.9333\n",
      "Epoch 11/20\n",
      "240/240 [==============================] - 15s 62ms/step - loss: 0.0027 - accuracy: 0.9997 - val_loss: 1.0860 - val_accuracy: 0.8833\n",
      "Epoch 12/20\n",
      "240/240 [==============================] - 15s 62ms/step - loss: 0.0034 - accuracy: 0.9992 - val_loss: 0.2255 - val_accuracy: 0.8833\n",
      "Epoch 13/20\n",
      "240/240 [==============================] - 15s 62ms/step - loss: 0.0116 - accuracy: 0.9967 - val_loss: 0.8367 - val_accuracy: 0.9167\n",
      "Epoch 14/20\n",
      "240/240 [==============================] - 15s 62ms/step - loss: 0.0035 - accuracy: 0.9990 - val_loss: 0.9462 - val_accuracy: 0.8667\n",
      "Epoch 15/20\n",
      "240/240 [==============================] - 15s 62ms/step - loss: 0.0088 - accuracy: 0.9974 - val_loss: 0.7573 - val_accuracy: 0.8167\n",
      "Epoch 16/20\n",
      "240/240 [==============================] - 15s 62ms/step - loss: 0.0018 - accuracy: 0.9996 - val_loss: 0.0189 - val_accuracy: 0.8833\n",
      "Epoch 17/20\n",
      "240/240 [==============================] - 15s 62ms/step - loss: 4.6878e-04 - accuracy: 1.0000 - val_loss: 1.0917 - val_accuracy: 0.9167\n",
      "Epoch 18/20\n",
      "240/240 [==============================] - 15s 62ms/step - loss: 3.7842e-04 - accuracy: 1.0000 - val_loss: 0.2662 - val_accuracy: 0.9000\n",
      "Epoch 19/20\n",
      "240/240 [==============================] - 15s 62ms/step - loss: 0.0037 - accuracy: 0.9986 - val_loss: 0.5369 - val_accuracy: 0.8833\n",
      "Epoch 20/20\n",
      "240/240 [==============================] - 15s 62ms/step - loss: 0.0109 - accuracy: 0.9965 - val_loss: 0.8524 - val_accuracy: 0.8833\n"
     ]
    },
    {
     "data": {
      "text/plain": [
       "<keras.callbacks.callbacks.History at 0x7f91bde9ef60>"
      ]
     },
     "execution_count": 55,
     "metadata": {
      "tags": []
     },
     "output_type": "execute_result"
    }
   ],
   "source": [
    "classifier.fit_generator(\n",
    "        train_set,\n",
    "        steps_per_epoch=240,\n",
    "        epochs=20,\n",
    "        validation_data=validation_set,\n",
    "        validation_steps=60)"
   ]
  },
  {
   "cell_type": "code",
   "execution_count": 0,
   "metadata": {
    "colab": {},
    "colab_type": "code",
    "id": "L18RdH8iU_bU"
   },
   "outputs": [],
   "source": []
  },
  {
   "cell_type": "code",
   "execution_count": 0,
   "metadata": {
    "colab": {
     "base_uri": "https://localhost:8080/",
     "height": 121
    },
    "colab_type": "code",
    "id": "AijnbpUzY3tb",
    "outputId": "f031afb3-b1e4-4bbe-d646-d6f7c152ff74"
   },
   "outputs": [
    {
     "name": "stdout",
     "output_type": "stream",
     "text": [
      "Go to this URL in a browser: https://accounts.google.com/o/oauth2/auth?client_id=947318989803-6bn6qk8qdgf4n4g3pfee6491hc0brc4i.apps.googleusercontent.com&redirect_uri=urn%3aietf%3awg%3aoauth%3a2.0%3aoob&response_type=code&scope=email%20https%3a%2f%2fwww.googleapis.com%2fauth%2fdocs.test%20https%3a%2f%2fwww.googleapis.com%2fauth%2fdrive%20https%3a%2f%2fwww.googleapis.com%2fauth%2fdrive.photos.readonly%20https%3a%2f%2fwww.googleapis.com%2fauth%2fpeopleapi.readonly\n",
      "\n",
      "Enter your authorization code:\n",
      "··········\n",
      "Mounted at /content/drive\n"
     ]
    }
   ],
   "source": [
    "from google.colab import drive\n",
    "drive.mount('/content/drive')"
   ]
  },
  {
   "cell_type": "code",
   "execution_count": 0,
   "metadata": {
    "colab": {},
    "colab_type": "code",
    "id": "FigkxyncesHf"
   },
   "outputs": [],
   "source": [
    "from PIL import Image"
   ]
  },
  {
   "cell_type": "code",
   "execution_count": 0,
   "metadata": {
    "colab": {},
    "colab_type": "code",
    "id": "3fZoQTLpffrm"
   },
   "outputs": [],
   "source": [
    "circle_png = Image.open('/content/drive/My Drive/datasets/circle.png')\n",
    "sq = Image.open('/content/drive/My Drive/datasets/squares.png')\n",
    "tr = Image.open('/content/drive/My Drive/datasets/Triangle.png')"
   ]
  },
  {
   "cell_type": "code",
   "execution_count": 0,
   "metadata": {
    "colab": {
     "base_uri": "https://localhost:8080/",
     "height": 286
    },
    "colab_type": "code",
    "id": "jrz0wtpfgWpa",
    "outputId": "d840631b-c68e-43dc-8f3c-b5d6e410f9ba"
   },
   "outputs": [
    {
     "data": {
      "text/plain": [
       "<matplotlib.image.AxesImage at 0x7f91b26417b8>"
      ]
     },
     "execution_count": 122,
     "metadata": {
      "tags": []
     },
     "output_type": "execute_result"
    },
    {
     "data": {
      "image/png": "[encoded data removed]",
      "text/plain": [
       "<Figure size 432x288 with 1 Axes>"
      ]
     },
     "metadata": {
      "tags": []
     },
     "output_type": "display_data"
    }
   ],
   "source": [
    "plt.imshow(tr)"
   ]
  },
  {
   "cell_type": "code",
   "execution_count": 0,
   "metadata": {
    "colab": {},
    "colab_type": "code",
    "id": "-FwT59lwfwdy"
   },
   "outputs": [],
   "source": [
    "circle_png = circle_png.convert('RGB')\n",
    "sq = sq.convert('RGB')\n",
    "tr = tr.convert('RGB')"
   ]
  },
  {
   "cell_type": "code",
   "execution_count": 0,
   "metadata": {
    "colab": {},
    "colab_type": "code",
    "id": "W1KeqT2lf3N5"
   },
   "outputs": [],
   "source": [
    "circle_png = circle_png.resize((28,28), Image.ANTIALIAS)\n",
    "sq = sq.resize((28,28), Image.ANTIALIAS)\n",
    "tr = tr.resize((28,28), Image.ANTIALIAS)"
   ]
  },
  {
   "cell_type": "code",
   "execution_count": 0,
   "metadata": {
    "colab": {
     "base_uri": "https://localhost:8080/",
     "height": 282
    },
    "colab_type": "code",
    "id": "DTOWmo8AgJQu",
    "outputId": "41e06f86-9d93-42a0-e963-49a0faed0749"
   },
   "outputs": [
    {
     "data": {
      "text/plain": [
       "<matplotlib.image.AxesImage at 0x7f91b259a8d0>"
      ]
     },
     "execution_count": 125,
     "metadata": {
      "tags": []
     },
     "output_type": "execute_result"
    },
    {
     "data": {
      "image/png": "[encoded data removed]",
      "text/plain": [
       "<Figure size 432x288 with 1 Axes>"
      ]
     },
     "metadata": {
      "tags": []
     },
     "output_type": "display_data"
    }
   ],
   "source": [
    "plt.imshow(tr)"
   ]
  },
  {
   "cell_type": "code",
   "execution_count": 0,
   "metadata": {
    "colab": {},
    "colab_type": "code",
    "id": "wB4kK2Oph6ns"
   },
   "outputs": [],
   "source": [
    "import pandas as pd"
   ]
  },
  {
   "cell_type": "code",
   "execution_count": 0,
   "metadata": {
    "colab": {
     "base_uri": "https://localhost:8080/",
     "height": 34
    },
    "colab_type": "code",
    "id": "41Q-f16YgOjK",
    "outputId": "b6044b25-8598-45b2-e9d9-2da6c5e5dc7e"
   },
   "outputs": [
    {
     "data": {
      "text/plain": [
       "array([[0., 0., 1.]], dtype=float32)"
      ]
     },
     "execution_count": 134,
     "metadata": {
      "tags": []
     },
     "output_type": "execute_result"
    }
   ],
   "source": [
    "classifier.predict(np.array(tr).reshape(1,28,28,3))"
   ]
  },
  {
   "cell_type": "code",
   "execution_count": 0,
   "metadata": {
    "colab": {
     "base_uri": "https://localhost:8080/",
     "height": 34
    },
    "colab_type": "code",
    "id": "GqQgpaqig0Fc",
    "outputId": "b079113f-66f4-447c-859a-21b0eba149b3"
   },
   "outputs": [
    {
     "data": {
      "text/plain": [
       "{'circles': 0, 'squares': 1, 'triangles': 2}"
      ]
     },
     "execution_count": 128,
     "metadata": {
      "tags": []
     },
     "output_type": "execute_result"
    }
   ],
   "source": [
    "train_set.class_indices"
   ]
  },
  {
   "cell_type": "markdown",
   "metadata": {},
   "source": [
    "----------------------------------------------"
   ]
  },
  {
   "cell_type": "code",
   "execution_count": 1,
   "metadata": {},
   "outputs": [],
   "source": [
    "import numpy as np"
   ]
  },
  {
   "cell_type": "code",
   "execution_count": 9,
   "metadata": {},
   "outputs": [
    {
     "data": {
      "text/plain": [
       "{'circles': 0, 'squares': 1, 'triangles': 2}"
      ]
     },
     "execution_count": 9,
     "metadata": {},
     "output_type": "execute_result"
    }
   ],
   "source": [
    "classes = {'circles': 0, 'squares': 1, 'triangles': 2}\n",
    "classes"
   ]
  },
  {
   "cell_type": "code",
   "execution_count": 17,
   "metadata": {},
   "outputs": [],
   "source": [
    "answers = np.array([[0.45, 0.35, 0.2], [0.1, 0.3, 0.6], [0.35, 0.55, 0.1]])"
   ]
  },
  {
   "cell_type": "code",
   "execution_count": 11,
   "metadata": {},
   "outputs": [],
   "source": [
    "answers = [np.argmax(ans) for ans in answers]"
   ]
  },
  {
   "cell_type": "code",
   "execution_count": 12,
   "metadata": {},
   "outputs": [
    {
     "data": {
      "text/plain": [
       "[0, 2, 1]"
      ]
     },
     "execution_count": 12,
     "metadata": {},
     "output_type": "execute_result"
    }
   ],
   "source": [
    "answers"
   ]
  },
  {
   "cell_type": "code",
   "execution_count": 13,
   "metadata": {},
   "outputs": [],
   "source": [
    "from sklearn.preprocessing import LabelBinarizer\n",
    "lb = LabelBinarizer()"
   ]
  },
  {
   "cell_type": "code",
   "execution_count": 15,
   "metadata": {},
   "outputs": [
    {
     "data": {
      "text/plain": [
       "LabelBinarizer(neg_label=0, pos_label=1, sparse_output=False)"
      ]
     },
     "execution_count": 15,
     "metadata": {},
     "output_type": "execute_result"
    }
   ],
   "source": [
    "lb.fit(np.array([0,1,2]))"
   ]
  },
  {
   "cell_type": "code",
   "execution_count": 16,
   "metadata": {},
   "outputs": [
    {
     "data": {
      "text/plain": [
       "array([0, 1, 2])"
      ]
     },
     "execution_count": 16,
     "metadata": {},
     "output_type": "execute_result"
    }
   ],
   "source": [
    "lb.classes_"
   ]
  },
  {
   "cell_type": "code",
   "execution_count": 19,
   "metadata": {},
   "outputs": [],
   "source": [
    "answers = np.array([[0.45, 0.35, 0.2], [0.1, 0.3, 0.6], [0.35, 0.55, 0.1]])"
   ]
  },
  {
   "cell_type": "code",
   "execution_count": 20,
   "metadata": {},
   "outputs": [
    {
     "data": {
      "text/plain": [
       "array([0, 2, 1])"
      ]
     },
     "execution_count": 20,
     "metadata": {},
     "output_type": "execute_result"
    }
   ],
   "source": [
    "lb.inverse_transform(answers)"
   ]
  }
 ],
 "metadata": {
  "accelerator": "GPU",
  "colab": {
   "collapsed_sections": [],
   "name": "Basic Shapes",
   "provenance": []
  },
  "kernelspec": {
   "display_name": "Python 3",
   "language": "python",
   "name": "python3"
  },
  "language_info": {
   "codemirror_mode": {
    "name": "ipython",
    "version": 3
   },
   "file_extension": ".py",
   "mimetype": "text/x-python",
   "name": "python",
   "nbconvert_exporter": "python",
   "pygments_lexer": "ipython3",
   "version": "3.7.7"
  }
 },
 "nbformat": 4,
 "nbformat_minor": 1
}
